{
 "cells": [
  {
   "cell_type": "markdown",
   "metadata": {},
   "source": [
    "Parser"
   ]
  },
  {
   "cell_type": "code",
   "execution_count": 24,
   "metadata": {},
   "outputs": [],
   "source": [
    "test_data = \"\"\"1abc2\n",
    "pqr3stu8vwx\n",
    "a1b2c3d4e5f\n",
    "treb7uchet\"\"\"\n",
    "test_data = test_data.split(\"\\n\")\n",
    "\n",
    "test_data2 = \"\"\"two1nine\n",
    "eightwothree\n",
    "abcone2threexyz\n",
    "xtwone3four\n",
    "4nineeightseven2\n",
    "zoneight234\n",
    "7pqrstsixteen\"\"\"\n",
    "test_data2 = test_data2.split(\"\\n\")\n",
    "\n",
    "with open(\"problem1.txt\") as r:\n",
    "  data = [l.replace(\"\\n\", \"\") for l in r.readlines()]"
   ]
  },
  {
   "cell_type": "markdown",
   "metadata": {},
   "source": [
    "Part 1"
   ]
  },
  {
   "cell_type": "code",
   "execution_count": 230,
   "metadata": {},
   "outputs": [
    {
     "data": {
      "text/plain": [
       "56049"
      ]
     },
     "execution_count": 230,
     "metadata": {},
     "output_type": "execute_result"
    }
   ],
   "source": [
    "def solution_1(data):\n",
    "  numbers = []\n",
    "  for line in data:\n",
    "    number = \"\"\n",
    "    for string in [line, line[::-1]]:\n",
    "      for char in string:\n",
    "        if char.isdigit():\n",
    "          number += char\n",
    "          break\n",
    "    numbers.append(int(number))\n",
    "  return sum(numbers)\n",
    "\n",
    "solution_1(data)"
   ]
  },
  {
   "cell_type": "code",
   "execution_count": 231,
   "metadata": {},
   "outputs": [],
   "source": [
    "def replace_words_in_string(string):\n",
    "  replacement_numbers = [\"one\", \"two\", \"three\", \"four\", \"five\", \"six\", \"seven\", \"eight\", \"nine\"]\n",
    "  length = 5\n",
    "  new_string = \"\"\n",
    "  for i in range(len(string)- length + 1):\n",
    "    sub_string = string[i:i+length]\n",
    "    for word in replacement_numbers:\n",
    "      if word in sub_string:\n",
    "        new_string = string.replace(word, str(replacement_numbers.index(word)+1), 1)\n",
    "        break\n",
    "    \n",
    "    if new_string:\n",
    "      break\n",
    "    else:\n",
    "      if any([l.isdigit() for l in sub_string]):\n",
    "        new_string = string\n",
    "        break\n",
    "  \n",
    "  if not new_string:\n",
    "    return string\n",
    "  replaced_string = \"\"\n",
    "  for i in range(len(new_string)- length + 1):\n",
    "    sub_string = new_string[::-1][i:i+length][::-1]\n",
    "\n",
    "    for word in replacement_numbers:\n",
    "      if word in sub_string:\n",
    "        replaced_string = new_string.replace(word, str(replacement_numbers.index(word)+1))\n",
    "        break\n",
    "    if replaced_string:\n",
    "      break\n",
    "  if not replaced_string:\n",
    "    return new_string\n",
    "  return replaced_string\n",
    "\n",
    "def solution_2(data):  \n",
    "  data = [replace_words_in_string(line) for line in data]\n",
    "  return solution_1(data)"
   ]
  },
  {
   "cell_type": "code",
   "execution_count": 232,
   "metadata": {},
   "outputs": [
    {
     "data": {
      "text/plain": [
       "54531"
      ]
     },
     "execution_count": 232,
     "metadata": {},
     "output_type": "execute_result"
    }
   ],
   "source": [
    "solution_2(data)"
   ]
  },
  {
   "cell_type": "code",
   "execution_count": null,
   "metadata": {},
   "outputs": [],
   "source": []
  }
 ],
 "metadata": {
  "kernelspec": {
   "display_name": "protura",
   "language": "python",
   "name": "python3"
  },
  "language_info": {
   "codemirror_mode": {
    "name": "ipython",
    "version": 3
   },
   "file_extension": ".py",
   "mimetype": "text/x-python",
   "name": "python",
   "nbconvert_exporter": "python",
   "pygments_lexer": "ipython3",
   "version": "3.8.0"
  }
 },
 "nbformat": 4,
 "nbformat_minor": 2
}
