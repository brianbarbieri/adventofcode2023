{
 "cells": [
  {
   "cell_type": "code",
   "execution_count": 11,
   "metadata": {},
   "outputs": [
    {
     "data": {
      "text/plain": [
       "['Game 1: 3 blue, 4 red; 1 red, 2 green, 6 blue; 2 green',\n",
       " 'Game 2: 1 blue, 2 green; 3 green, 4 blue, 1 red; 1 green, 1 blue',\n",
       " 'Game 3: 8 green, 6 blue, 20 red; 5 blue, 4 red, 13 green; 5 green, 1 red',\n",
       " 'Game 4: 1 green, 3 red, 6 blue; 3 green, 6 red; 3 green, 15 blue, 14 red',\n",
       " 'Game 5: 6 red, 1 blue, 3 green; 2 blue, 1 red, 2 green']"
      ]
     },
     "execution_count": 11,
     "metadata": {},
     "output_type": "execute_result"
    }
   ],
   "source": [
    "test_data = \"\"\"Game 1: 3 blue, 4 red; 1 red, 2 green, 6 blue; 2 green\n",
    "Game 2: 1 blue, 2 green; 3 green, 4 blue, 1 red; 1 green, 1 blue\n",
    "Game 3: 8 green, 6 blue, 20 red; 5 blue, 4 red, 13 green; 5 green, 1 red\n",
    "Game 4: 1 green, 3 red, 6 blue; 3 green, 6 red; 3 green, 15 blue, 14 red\n",
    "Game 5: 6 red, 1 blue, 3 green; 2 blue, 1 red, 2 green\"\"\"\n",
    "# test_data2 = \"\"\"\"\"\"\n",
    "# test_data2 = test_data2.split(\"\\n\")\n",
    "\n",
    "# with open(\"problem1.txt\") as r:\n",
    "#   data = [l.replace(\"\\n\", \"\") for l in r.readlines()]\n",
    "\n",
    "test_games"
   ]
  },
  {
   "cell_type": "code",
   "execution_count": 32,
   "metadata": {},
   "outputs": [
    {
     "name": "stdout",
     "output_type": "stream",
     "text": [
      "1\n",
      "2\n",
      "5\n"
     ]
    },
    {
     "data": {
      "text/plain": [
       "8"
      ]
     },
     "execution_count": 32,
     "metadata": {},
     "output_type": "execute_result"
    }
   ],
   "source": [
    "def solution_1(data):\n",
    "    max_values = {\"red\" : 12, \"blue\" : 14, \"green\" : 13}\n",
    "    games = data.split(\"\\n\")\n",
    "    games = [{\"game\" : int(game.split(\": \")[0].split(\" \")[-1]), \"sets\": [[[g.split(\" \")[-1], int(g.split(\" \")[0])] for g in s.split(\", \")] for s in game.split(\": \")[-1].split(\"; \")]} for game in games]\n",
    "    total = 0\n",
    "    for game in games:\n",
    "        good_hand = True\n",
    "        for s in game.get(\"sets\"):\n",
    "            values = {\"red\" : 0, \"blue\": 0, \"green\" : 0}\n",
    "            for g in s:\n",
    "                values[g[0]] += g[1]\n",
    "\n",
    "            for k in values:\n",
    "                if values[k] > max_values[k]:\n",
    "                    good_hand = False\n",
    "        if good_hand:\n",
    "            total += game.get(\"game\")\n",
    "\n",
    "    return total\n",
    "solution_1(test_data)"
   ]
  },
  {
   "cell_type": "code",
   "execution_count": null,
   "metadata": {},
   "outputs": [],
   "source": []
  },
  {
   "cell_type": "code",
   "execution_count": null,
   "metadata": {},
   "outputs": [],
   "source": []
  }
 ],
 "metadata": {
  "kernelspec": {
   "display_name": "base",
   "language": "python",
   "name": "python3"
  },
  "language_info": {
   "codemirror_mode": {
    "name": "ipython",
    "version": 3
   },
   "file_extension": ".py",
   "mimetype": "text/x-python",
   "name": "python",
   "nbconvert_exporter": "python",
   "pygments_lexer": "ipython3",
   "version": "3.11.5"
  }
 },
 "nbformat": 4,
 "nbformat_minor": 2
}
